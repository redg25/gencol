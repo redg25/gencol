{
 "cells": [
  {
   "cell_type": "code",
   "execution_count": 27,
   "id": "34226421-7fb6-433f-bfa8-d855bdb2fb07",
   "metadata": {},
   "outputs": [
    {
     "name": "stdout",
     "output_type": "stream",
     "text": [
      "3\n"
     ]
    }
   ],
   "source": [
    "test = [['a','b','c'],['d','e'],['f','g']]\n",
    "output = []\n",
    "print(len(test))"
   ]
  },
  {
   "cell_type": "code",
   "execution_count": 28,
   "id": "e6ff176d-69cf-4ab5-84ec-82f0130b5d61",
   "metadata": {},
   "outputs": [],
   "source": [
    "def recur(lst,image,n):\n",
    "    for img in lst[n]:\n",
    "        new_image = image + letter\n",
    "        if n+1 == len(lst):\n",
    "            output.append(new_image)\n",
    "        else:\n",
    "            recur(lst,new_image,n+1)\n",
    "                \n",
    "            \n",
    "        "
   ]
  },
  {
   "cell_type": "code",
   "execution_count": 29,
   "id": "45a94b09-9fa6-4e8f-9edc-03c6573b8f09",
   "metadata": {},
   "outputs": [
    {
     "name": "stdout",
     "output_type": "stream",
     "text": [
      "['adf', 'adg', 'aef', 'aeg', 'bdf', 'bdg', 'bef', 'beg', 'cdf', 'cdg', 'cef', 'ceg']\n"
     ]
    }
   ],
   "source": [
    "recur(test,'',0)\n",
    "print (output)"
   ]
  },
  {
   "cell_type": "code",
   "execution_count": null,
   "id": "0cbca173-9655-49ed-81e5-87cb4eafda90",
   "metadata": {},
   "outputs": [],
   "source": []
  }
 ],
 "metadata": {
  "kernelspec": {
   "display_name": "Python 3 (ipykernel)",
   "language": "python",
   "name": "python3"
  },
  "language_info": {
   "codemirror_mode": {
    "name": "ipython",
    "version": 3
   },
   "file_extension": ".py",
   "mimetype": "text/x-python",
   "name": "python",
   "nbconvert_exporter": "python",
   "pygments_lexer": "ipython3",
   "version": "3.9.7"
  }
 },
 "nbformat": 4,
 "nbformat_minor": 5
}
